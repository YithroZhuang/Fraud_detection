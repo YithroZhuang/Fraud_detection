{
 "cells": [
  {
   "cell_type": "code",
   "execution_count": 1,
   "metadata": {
    "collapsed": true
   },
   "outputs": [],
   "source": [
    "import json\n",
    "import pandas as pd\n",
    "import numpy as np"
   ]
  },
  {
   "cell_type": "code",
   "execution_count": 2,
   "metadata": {
    "collapsed": true
   },
   "outputs": [],
   "source": [
    "index2nodeid_train = json.load(open('/data/zy/youmi/FDMA/metapath/train/log/index2nodeid.json'))\n",
    "index2nodeid_train = {int(k):v for k, v in index2nodeid_train.items()}\n",
    "nodeid2index_train = {v:int(k) for k, v in index2nodeid_train.items()}\n",
    "node_embeddings_train = np.load('/data/zy/youmi/FDMA/metapath/train/log/node_embeddings.npz')['arr_0']\n",
    "\n",
    "index2nodeid_valid = json.load(open('/data/zy/youmi/FDMA/log/index2nodeid.json'))\n",
    "index2nodeid_valid = {int(k):v for k, v in index2nodeid_valid.items()}\n",
    "nodeid2index_valid = {v:int(k) for k, v in index2nodeid_valid.items()}\n",
    "node_embeddings_valid = np.load('/data/zy/youmi/FDMA/log/node_embeddings.npz')['arr_0']"
   ]
  },
  {
   "cell_type": "code",
   "execution_count": 5,
   "metadata": {
    "collapsed": true
   },
   "outputs": [],
   "source": [
    "train_df = pd.read_csv('/data/zy/youmi/FDMA/original_data/publishers_09feb12.csv', low_memory=False)\n",
    "valid_df = pd.read_csv('/data/zy/youmi/FDMA/original_data/publishers_23feb12.csv', low_memory=False)"
   ]
  },
  {
   "cell_type": "code",
   "execution_count": 11,
   "metadata": {
    "collapsed": false
   },
   "outputs": [
    {
     "name": "stdout",
     "output_type": "stream",
     "text": [
      "8jcuw\n"
     ]
    },
    {
     "ename": "NameError",
     "evalue": "global name 'd' is not defined",
     "output_type": "error",
     "traceback": [
      "\u001b[1;31m---------------------------------------------------------------------------\u001b[0m",
      "\u001b[1;31mNameError\u001b[0m                                 Traceback (most recent call last)",
      "\u001b[1;32m<ipython-input-11-9afe92bafebd>\u001b[0m in \u001b[0;36m<module>\u001b[1;34m()\u001b[0m\n\u001b[0;32m      4\u001b[0m \u001b[0mvalid_non_fraud_partner\u001b[0m \u001b[1;33m=\u001b[0m \u001b[0mvalid_df\u001b[0m\u001b[1;33m[\u001b[0m\u001b[0mvalid_df\u001b[0m\u001b[1;33m[\u001b[0m\u001b[1;34m'status'\u001b[0m\u001b[1;33m]\u001b[0m\u001b[1;33m.\u001b[0m\u001b[0misin\u001b[0m\u001b[1;33m(\u001b[0m\u001b[1;33m[\u001b[0m\u001b[1;34m'OK'\u001b[0m\u001b[1;33m,\u001b[0m\u001b[1;34m'Observation'\u001b[0m\u001b[1;33m]\u001b[0m\u001b[1;33m)\u001b[0m\u001b[1;33m]\u001b[0m\u001b[1;33m[\u001b[0m\u001b[1;34m'partnerid'\u001b[0m\u001b[1;33m]\u001b[0m\u001b[1;33m.\u001b[0m\u001b[0munique\u001b[0m\u001b[1;33m(\u001b[0m\u001b[1;33m)\u001b[0m\u001b[1;33m.\u001b[0m\u001b[0mtolist\u001b[0m\u001b[1;33m(\u001b[0m\u001b[1;33m)\u001b[0m\u001b[1;33m\u001b[0m\u001b[0m\n\u001b[0;32m      5\u001b[0m \u001b[1;33m\u001b[0m\u001b[0m\n\u001b[1;32m----> 6\u001b[1;33m \u001b[0mX_train\u001b[0m\u001b[1;33m,\u001b[0m \u001b[0my_train\u001b[0m \u001b[1;33m=\u001b[0m \u001b[0membedding2input\u001b[0m\u001b[1;33m(\u001b[0m\u001b[0mnode_embeddings_train\u001b[0m\u001b[1;33m,\u001b[0m \u001b[0mnodeid2index_train\u001b[0m\u001b[1;33m,\u001b[0m \u001b[0mtrain_fraud_partner\u001b[0m\u001b[1;33m,\u001b[0m                                    \u001b[0mtrain_non_fraud_partner\u001b[0m\u001b[1;33m,\u001b[0m \u001b[0mTrue\u001b[0m\u001b[1;33m)\u001b[0m\u001b[1;33m\u001b[0m\u001b[0m\n\u001b[0m\u001b[0;32m      7\u001b[0m \u001b[0mX_valid\u001b[0m\u001b[1;33m,\u001b[0m \u001b[0my_valid\u001b[0m \u001b[1;33m=\u001b[0m \u001b[0membedding2input\u001b[0m\u001b[1;33m(\u001b[0m\u001b[0mnode_embeddings_valid\u001b[0m\u001b[1;33m,\u001b[0m \u001b[0mnodeid2index_valid\u001b[0m\u001b[1;33m,\u001b[0m \u001b[0mvalid_fraud_partner\u001b[0m\u001b[1;33m,\u001b[0m                                    \u001b[0mvalid_non_fraud_partner\u001b[0m\u001b[1;33m,\u001b[0m \u001b[0mFalse\u001b[0m\u001b[1;33m)\u001b[0m\u001b[1;33m\u001b[0m\u001b[0m\n",
      "\u001b[1;32m<ipython-input-10-7ef54f1073d9>\u001b[0m in \u001b[0;36membedding2input\u001b[1;34m(node_embeddings, nodeid2index, fraud, non_fraud, up)\u001b[0m\n\u001b[0;32m     20\u001b[0m         \u001b[1;32mtry\u001b[0m\u001b[1;33m:\u001b[0m\u001b[1;33m\u001b[0m\u001b[0m\n\u001b[0;32m     21\u001b[0m             \u001b[0mneg_data\u001b[0m\u001b[1;33m.\u001b[0m\u001b[0mappend\u001b[0m\u001b[1;33m(\u001b[0m\u001b[0mnode_embeddings\u001b[0m\u001b[1;33m[\u001b[0m\u001b[0mnodeid2index\u001b[0m\u001b[1;33m[\u001b[0m\u001b[0mcc\u001b[0m\u001b[1;33m]\u001b[0m\u001b[1;33m]\u001b[0m\u001b[1;33m.\u001b[0m\u001b[0mtolist\u001b[0m\u001b[1;33m(\u001b[0m\u001b[1;33m)\u001b[0m \u001b[1;33m+\u001b[0m \u001b[1;33m[\u001b[0m\u001b[1;36m0\u001b[0m\u001b[1;33m]\u001b[0m\u001b[1;33m)\u001b[0m\u001b[1;33m\u001b[0m\u001b[0m\n\u001b[1;32m---> 22\u001b[1;33m             \u001b[0md\u001b[0m\u001b[1;33m.\u001b[0m\u001b[0mappend\u001b[0m\u001b[1;33m(\u001b[0m\u001b[0mnode_embeddings\u001b[0m\u001b[1;33m[\u001b[0m\u001b[0mnodeid2index\u001b[0m\u001b[1;33m[\u001b[0m\u001b[0mcc\u001b[0m\u001b[1;33m]\u001b[0m\u001b[1;33m]\u001b[0m\u001b[1;33m.\u001b[0m\u001b[0mtolist\u001b[0m\u001b[1;33m(\u001b[0m\u001b[1;33m)\u001b[0m \u001b[1;33m+\u001b[0m \u001b[1;33m[\u001b[0m\u001b[1;36m0\u001b[0m\u001b[1;33m,\u001b[0m \u001b[0mcc\u001b[0m\u001b[1;33m]\u001b[0m\u001b[1;33m)\u001b[0m\u001b[1;33m\u001b[0m\u001b[0m\n\u001b[0m\u001b[0;32m     23\u001b[0m         \u001b[1;32mexcept\u001b[0m \u001b[0mKeyError\u001b[0m\u001b[1;33m:\u001b[0m\u001b[1;33m\u001b[0m\u001b[0m\n\u001b[0;32m     24\u001b[0m             \u001b[1;32mprint\u001b[0m \u001b[0mcc\u001b[0m\u001b[1;33m\u001b[0m\u001b[0m\n",
      "\u001b[1;31mNameError\u001b[0m: global name 'd' is not defined"
     ]
    }
   ],
   "source": [
    "train_fraud_partner = train_df[train_df['status']=='fraud']['partnerid'].unique().tolist()\n",
    "train_non_fraud_partner = train_df[train_df['status'].isin(['OK','Observation'])]['partnerid'].unique().tolist()\n",
    "valid_fraud_partner = valid_df[valid_df['status']=='fraud']['partnerid'].unique().tolist()\n",
    "valid_non_fraud_partner = valid_df[valid_df['status'].isin(['OK','Observation'])]['partnerid'].unique().tolist()\n",
    "\n",
    "X_train, y_train = embedding2input(node_embeddings_train, nodeid2index_train, train_fraud_partner, \\\n",
    "                                   train_non_fraud_partner, True)\n",
    "X_valid, y_valid = embedding2input(node_embeddings_valid, nodeid2index_valid, valid_fraud_partner, \\\n",
    "                                   valid_non_fraud_partner, False)"
   ]
  },
  {
   "cell_type": "code",
   "execution_count": 10,
   "metadata": {
    "collapsed": false
   },
   "outputs": [],
   "source": [
    "def embedding2input(node_embeddings, nodeid2index, fraud, non_fraud, up):\n",
    "    pos_data = []\n",
    "    d = []\n",
    "    for cc in fraud:\n",
    "        try:\n",
    "            pos_data.append(node_embeddings[nodeid2index[cc]].tolist() + [1])\n",
    "            d.append(node_embeddings[nodeid2index[cc]].tolist() + [1, cc])\n",
    "        except KeyError:\n",
    "            print cc\n",
    "    if up:\n",
    "        # random up-sampling\n",
    "        tmp = []\n",
    "        for i in range(10*len(fraud)):\n",
    "            tmp.append(np.random.randint(0,len(fraud)-1))\n",
    "        bp_data = [pos_data[i] for i in tmp]\n",
    "        pos_data = bp_data\n",
    "    pos_data = np.array(pos_data)\n",
    "    \n",
    "    neg_data = []\n",
    "    for cc in non_fraud:\n",
    "        try:\n",
    "            neg_data.append(node_embeddings[nodeid2index[cc]].tolist() + [0])\n",
    "            d.append(node_embeddings[nodeid2index[cc]].tolist() + [0, cc])\n",
    "        except KeyError:\n",
    "            print cc\n",
    "    neg_data = np.array(neg_data)\n",
    "    \n",
    "    data = np.concatenate([pos_data, neg_data], axis=0)\n",
    "    print data.shape\n",
    "                                            \n",
    "    sample_ids = np.arange(data.shape[0])\n",
    "    np.random.shuffle(sample_ids)\n",
    "    x = np.array([data[i][:-1] for i in sample_ids])\n",
    "    y = np.array([data[i][-1] for i in sample_ids])\n",
    "    return x, y"
   ]
  }
 ],
 "metadata": {
  "kernelspec": {
   "display_name": "Python 2",
   "language": "python",
   "name": "python2"
  },
  "language_info": {
   "codemirror_mode": {
    "name": "ipython",
    "version": 2
   },
   "file_extension": ".py",
   "mimetype": "text/x-python",
   "name": "python",
   "nbconvert_exporter": "python",
   "pygments_lexer": "ipython2",
   "version": "2.7.13"
  }
 },
 "nbformat": 4,
 "nbformat_minor": 0
}
