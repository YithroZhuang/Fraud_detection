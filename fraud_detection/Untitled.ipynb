{
 "cells": [
  {
   "cell_type": "code",
   "execution_count": 10,
   "metadata": {
    "collapsed": false
   },
   "outputs": [
    {
     "name": "stdout",
     "output_type": "stream",
     "text": [
      "The number of unique words:154183\n",
      "window size 5\n"
     ]
    }
   ],
   "source": [
    "%reload_ext autoreload\n",
    "%autoreload 2\n",
    "from code.dataset import Dataset\n",
    "from code.skipgram import Skipgram\n",
    "\n",
    "data = '/data/zy/youmi/FDMA/metapath/train/hierarchy'\n",
    "dataset = Dataset(random_walk_txt=data+'/random_walk_application.txt',\\\n",
    "                  node_type_mapping_txt=data+'/node_type_mapings.txt',\\\n",
    "                  window_size=5,\\\n",
    "                  json_file=data+'/log1/index2nodeid.json',\\\n",
    "                  npz_file=data+'/log1/node_embeddings.npz')"
   ]
  },
  {
   "cell_type": "code",
   "execution_count": 17,
   "metadata": {
    "collapsed": false
   },
   "outputs": [
    {
     "data": {
      "text/plain": [
       "<unbound method Skipgram.__init__>"
      ]
     },
     "execution_count": 17,
     "metadata": {},
     "output_type": "execute_result"
    }
   ],
   "source": [
    "Skipgram.__init__"
   ]
  },
  {
   "cell_type": "code",
   "execution_count": null,
   "metadata": {
    "collapsed": false
   },
   "outputs": [],
   "source": [
    "import tensorflow as tf\n",
    "tf.reset_default_graph()\n",
    "skip_params = {\n",
    "    'VOCAB_SIZE': len(dataset.nodeid2index),\n",
    "    'EMBED_SIZE': 128,\n",
    "    'NUM_SAMPLED': 5,\n",
    "    'LEARNING_RATE': 0.02,\n",
    "    'BATCH_SIZE': 10000,\n",
    "    'OPT_ALGO': 'adam',\n",
    "    'DATASET' :dataset,\n",
    "    'LOG_DIRECTORY': data+'/log2',\n",
    "    'MAX_KEEP_MODEL': 100\n",
    "    }\n",
    "\n",
    "skipgram = Skipgram(**skip_params)\n",
    "skipgram._train(100,0)"
   ]
  }
 ],
 "metadata": {
  "kernelspec": {
   "display_name": "Python 2",
   "language": "python",
   "name": "python2"
  },
  "language_info": {
   "codemirror_mode": {
    "name": "ipython",
    "version": 2
   },
   "file_extension": ".py",
   "mimetype": "text/x-python",
   "name": "python",
   "nbconvert_exporter": "python",
   "pygments_lexer": "ipython2",
   "version": "2.7.15"
  }
 },
 "nbformat": 4,
 "nbformat_minor": 0
}
